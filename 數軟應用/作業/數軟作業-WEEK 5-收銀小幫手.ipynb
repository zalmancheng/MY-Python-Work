{
 "cells": [
  {
   "cell_type": "code",
   "execution_count": 1,
   "metadata": {},
   "outputs": [],
   "source": [
    "%matplotlib inline\n",
    "import numpy as np\n",
    "import matplotlib.pyplot as plt\n",
    "import pandas as pd\n",
    "import time"
   ]
  },
  {
   "cell_type": "markdown",
   "metadata": {},
   "source": [
    "# 主餐：\n",
    "### (a)原味蛋餅:$25,(b)鮪魚蛋餅:$30,(c)起司蛋餅:$30,(d)火腿蛋餅:$35,(e)薯餅蛋餅:$40,(f)咔拉雞蛋餅:$45,(z)無\n",
    "# 飲料：\n",
    "### (g)豆漿(小):$15,(h)豆漿(大):$20,(i)紅茶(小):$10,(j)紅茶(大):$15,(k)奶茶(小):$20,(l)奶茶(大):$25,(m)米漿(中):$25,(z)無\n"
   ]
  },
  {
   "cell_type": "markdown",
   "metadata": {},
   "source": [
    "# 配餐:\n",
    "## (n)小熱狗:$15,(o)英式炒蛋:$25,(p)雞米花:$30,(q)雞塊:$35,(r)炸物拼盤:$50,(s)鬆餅:$50,(z)無\n"
   ]
  },
  {
   "cell_type": "code",
   "execution_count": 2,
   "metadata": {},
   "outputs": [
    {
     "name": "stdout",
     "output_type": "stream",
     "text": [
      "請輸入員工代碼:Zalman\n",
      "歡迎，夥伴Zalman,櫃檯今早就麻煩你了！\n",
      "請輸入主餐價格:25\n",
      "請輸入飲料價格:15\n",
      "請輸入配餐價格:15\n",
      "總額:55\n",
      "收下現金:100\n",
      "找零45元\n",
      "進行下筆交易請按R/換班請按N:R\n",
      "請輸入主餐價格:45\n",
      "請輸入飲料價格:25\n",
      "請輸入配餐價格:50\n",
      "總額:120\n",
      "收下現金:100\n",
      "\u001b[31m請他至內場洗碗還債\u001b[0m\n",
      "進行下筆交易請按R/換班請按N:N\n"
     ]
    }
   ],
   "source": [
    "t=input(\"請輸入員工代碼:\")\n",
    "time.sleep(0.8)\n",
    "print(\"歡迎，夥伴\"+t+\",櫃檯今早就麻煩你了！\")\n",
    "time.sleep(0.5)\n",
    "done=()\n",
    "while 'N' not in done:\n",
    "    u=input(\"請輸入主餐價格:\")\n",
    "    time.sleep(0.5)\n",
    "    v=input(\"請輸入飲料價格:\")\n",
    "    time.sleep(0.5)\n",
    "    w=input(\"請輸入配餐價格:\")\n",
    "\n",
    "    x=int(u)+int(v)+int(w)\n",
    "    print(\"總額:\"+str(x))\n",
    "    time.sleep(0.5)\n",
    "    take=input(\"收下現金:\")\n",
    "    minus=int(take)-x\n",
    "    if minus>=0:\n",
    "        print(\"找零\"+str(minus)+\"元\")\n",
    "    else:\n",
    "        print(\"\\033[31m請他至內場洗碗還債\\033[0m\")\n",
    "    time.sleep(0.3)\n",
    "    done=input(\"進行下筆交易請按R/換班請按N:\")\n",
    "    "
   ]
  },
  {
   "cell_type": "markdown",
   "metadata": {},
   "source": [
    "# ▾原先希望可以輸入品項(a,b,c...)，但無法將字串'a'轉為a再轉為25元（。＿。）"
   ]
  },
  {
   "cell_type": "code",
   "execution_count": null,
   "metadata": {},
   "outputs": [],
   "source": [
    "a=l=m=o=25\n",
    "b=c=p=30\n",
    "d=q=35\n",
    "e=40\n",
    "f=45\n",
    "g=15\n",
    "h=k=20\n",
    "i=10\n",
    "j=n=15\n",
    "r=s=50\n",
    "z=0\n",
    "\n",
    "t=input(\"請輸入員工代碼:\")\n",
    "time.sleep(0.8)\n",
    "print(\"歡迎，夥伴\"+t+\",櫃檯今早就麻煩你了！\")\n",
    "time.sleep(0.5)\n",
    "u=input(\"請輸入主餐:\")\n",
    "time.sleep(0.5)\n",
    "v=input(\"請輸入飲料:\")\n",
    "time.sleep(0.5)\n",
    "w=input(\"請輸入配餐:\")\n",
    "\n",
    "x=u+v+w\n",
    "print(x)"
   ]
  },
  {
   "cell_type": "code",
   "execution_count": null,
   "metadata": {},
   "outputs": [],
   "source": []
  }
 ],
 "metadata": {
  "kernelspec": {
   "display_name": "Python 3",
   "language": "python",
   "name": "python3"
  },
  "language_info": {
   "codemirror_mode": {
    "name": "ipython",
    "version": 3
   },
   "file_extension": ".py",
   "mimetype": "text/x-python",
   "name": "python",
   "nbconvert_exporter": "python",
   "pygments_lexer": "ipython3",
   "version": "3.7.3"
  }
 },
 "nbformat": 4,
 "nbformat_minor": 2
}
