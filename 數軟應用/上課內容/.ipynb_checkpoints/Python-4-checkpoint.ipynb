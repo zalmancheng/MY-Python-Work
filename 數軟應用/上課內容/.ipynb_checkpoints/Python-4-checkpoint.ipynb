{
 "cells": [
  {
   "cell_type": "code",
   "execution_count": 2,
   "metadata": {},
   "outputs": [],
   "source": [
    "%matplotlib inline\n",
    "import numpy as np\n",
    "import matplotlib.pyplot as plt\n",
    "import pandas as pd"
   ]
  },
  {
   "cell_type": "code",
   "execution_count": 3,
   "metadata": {},
   "outputs": [],
   "source": [
    "from numpy.random import randint"
   ]
  },
  {
   "cell_type": "code",
   "execution_count": 4,
   "metadata": {},
   "outputs": [
    {
     "name": "stdout",
     "output_type": "stream",
     "text": [
      "8\n",
      "2\n",
      "3\n",
      "1\n",
      "4\n",
      "9\n",
      "8\n",
      "7\n",
      "3\n",
      "6\n"
     ]
    }
   ],
   "source": [
    "for i in range(10):\n",
    "    print(randint(1,10))"
   ]
  },
  {
   "cell_type": "code",
   "execution_count": 5,
   "metadata": {},
   "outputs": [
    {
     "name": "stdout",
     "output_type": "stream",
     "text": [
      "6,8,7,3,1,2,5,1,8,9,"
     ]
    }
   ],
   "source": [
    "for i in range(10):\n",
    "    print(randint(1,10),end=\",\")"
   ]
  },
  {
   "cell_type": "markdown",
   "metadata": {},
   "source": [
    "# 來做一個文青機器人"
   ]
  },
  {
   "cell_type": "code",
   "execution_count": 6,
   "metadata": {},
   "outputs": [],
   "source": [
    "words='''\n",
    "我\n",
    "我的\n",
    "妳\n",
    "妳的\n",
    "心\n",
    "溫柔\n",
    "日子\n",
    "雨\n",
    "風\n",
    "天空\n",
    "雲\n",
    "等待\n",
    "哭泣\n",
    "戀愛\n",
    "相遇\n",
    "分離\n",
    "忘記\n",
    "心醉\n",
    "驀然\n",
    "吹過\n",
    "思念\n",
    "靈魂\n",
    "停止\n",
    "椎間盤'''"
   ]
  },
  {
   "cell_type": "code",
   "execution_count": 7,
   "metadata": {},
   "outputs": [
    {
     "data": {
      "text/plain": [
       "'\\n我\\n我的\\n妳\\n妳的\\n心\\n溫柔\\n日子\\n雨\\n風\\n天空\\n雲\\n等待\\n哭泣\\n戀愛\\n相遇\\n分離\\n忘記\\n心醉\\n驀然\\n吹過\\n思念\\n靈魂\\n停止\\n椎間盤'"
      ]
     },
     "execution_count": 7,
     "metadata": {},
     "output_type": "execute_result"
    }
   ],
   "source": [
    "words"
   ]
  },
  {
   "cell_type": "code",
   "execution_count": 13,
   "metadata": {},
   "outputs": [],
   "source": [
    "phrases=words.split(\"\\n\")"
   ]
  },
  {
   "cell_type": "code",
   "execution_count": 123,
   "metadata": {},
   "outputs": [],
   "source": [
    "robot=np.random.choice(phrases,5)"
   ]
  },
  {
   "cell_type": "code",
   "execution_count": 124,
   "metadata": {},
   "outputs": [],
   "source": [
    "l=randint(3,6)"
   ]
  },
  {
   "cell_type": "code",
   "execution_count": 125,
   "metadata": {},
   "outputs": [
    {
     "data": {
      "text/plain": [
       "array(['戀愛', '靈魂', '雲', '等待', '雲', '雨'], dtype='<U3')"
      ]
     },
     "execution_count": 125,
     "metadata": {},
     "output_type": "execute_result"
    }
   ],
   "source": [
    "sen=randint(5,8)\n",
    "s=np.random.choice(phrases,sen)\n",
    "s"
   ]
  },
  {
   "cell_type": "markdown",
   "metadata": {},
   "source": [
    "# 中間以空白隔開"
   ]
  },
  {
   "cell_type": "code",
   "execution_count": 126,
   "metadata": {},
   "outputs": [
    {
     "data": {
      "text/plain": [
       "'戀愛 靈魂 雲 等待 雲 雨'"
      ]
     },
     "execution_count": 126,
     "metadata": {},
     "output_type": "execute_result"
    }
   ],
   "source": [
    "\" \".join(s)"
   ]
  },
  {
   "cell_type": "markdown",
   "metadata": {},
   "source": [
    "# for 迴圈決定長度"
   ]
  },
  {
   "cell_type": "code",
   "execution_count": 128,
   "metadata": {
    "scrolled": true
   },
   "outputs": [
    {
     "name": "stdout",
     "output_type": "stream",
     "text": [
      "停止 相遇 相遇 妳 驀然\n",
      "雲 相遇 思念 分離 我\n",
      "我的 哭泣 妳的 停止 哭泣 心\n",
      "等待 風 我 雲 我 驀然 忘記\n"
     ]
    }
   ],
   "source": [
    "n=randint(3,6)\n",
    "\n",
    "for i in range(n):\n",
    "    k=randint(5,8)\n",
    "    d=np.random.choice(phrases,k)\n",
    "    ham=\" \".join(d)\n",
    "    print(ham)"
   ]
  },
  {
   "cell_type": "markdown",
   "metadata": {},
   "source": [
    "# 輸出程式\n",
    "## 檔名一定要.py（後方加上要保留的程式條）"
   ]
  },
  {
   "cell_type": "code",
   "execution_count": 130,
   "metadata": {},
   "outputs": [
    {
     "name": "stdout",
     "output_type": "stream",
     "text": [
      "File `poem.py2.py` exists. Overwrite (y/[N])?  y\n",
      "The following commands were written to file `poem.py2.py`:\n",
      "from numpy.random import randint\n",
      "words='''\n",
      "我\n",
      "我的\n",
      "妳\n",
      "妳的\n",
      "心\n",
      "溫柔\n",
      "日子\n",
      "雨\n",
      "風\n",
      "天空\n",
      "雲\n",
      "等待\n",
      "哭泣\n",
      "戀愛\n",
      "相遇\n",
      "分離\n",
      "忘記\n",
      "心醉\n",
      "驀然\n",
      "吹過\n",
      "思念\n",
      "靈魂\n",
      "停止\n",
      "椎間盤'''\n",
      "phrases=words.split(\"\\n\")\n",
      "n=randint(3,6)\n",
      "\n",
      "for i in range(n):\n",
      "    k=randint(5,8)\n",
      "    d=np.random.choice(phrases,k)\n",
      "    ham=\" \".join(d)\n",
      "    print(ham)\n"
     ]
    }
   ],
   "source": [
    "%save \"poem.py\"2  3 6 13 128"
   ]
  },
  {
   "cell_type": "code",
   "execution_count": null,
   "metadata": {},
   "outputs": [],
   "source": []
  }
 ],
 "metadata": {
  "kernelspec": {
   "display_name": "Python 3",
   "language": "python",
   "name": "python3"
  },
  "language_info": {
   "codemirror_mode": {
    "name": "ipython",
    "version": 3
   },
   "file_extension": ".py",
   "mimetype": "text/x-python",
   "name": "python",
   "nbconvert_exporter": "python",
   "pygments_lexer": "ipython3",
   "version": "3.7.3"
  }
 },
 "nbformat": 4,
 "nbformat_minor": 2
}
