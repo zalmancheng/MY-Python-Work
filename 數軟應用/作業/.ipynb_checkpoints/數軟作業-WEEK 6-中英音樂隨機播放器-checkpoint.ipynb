{
 "cells": [
  {
   "cell_type": "code",
   "execution_count": 96,
   "metadata": {},
   "outputs": [],
   "source": [
    "%matplotlib inline\n",
    "import numpy as np\n",
    "import matplotlib.pyplot as plt\n",
    "import pandas as pd\n",
    "import random\n",
    "from ipywidgets import interact_manual\n",
    "from IPython.display import YouTubeVideo"
   ]
  },
  {
   "cell_type": "code",
   "execution_count": 97,
   "metadata": {},
   "outputs": [
    {
     "name": "stdout",
     "output_type": "stream",
     "text": [
      "想聽中文還是英文歌呢？英文\n"
     ]
    }
   ],
   "source": [
    "x=input('想聽中文還是英文歌呢？')"
   ]
  },
  {
   "cell_type": "code",
   "execution_count": 98,
   "metadata": {},
   "outputs": [],
   "source": [
    "if ('英文')in x:\n",
    "    def video():\n",
    "        a='Rh47oTsRf-w'\n",
    "        b='PX5kYhypalg'\n",
    "        c='mjrdywp5nyE'\n",
    "        d='W2orTAsIjCo'\n",
    "        e='fqzhtvLWefA'\n",
    "        f='u9raS7-NisU'\n",
    "        g='RpDHdhTvgMs'\n",
    "        h='CnLgDZYLWso'\n",
    "        i='o9oy05nc9oM'\n",
    "        j='4W_YgNW7gs0'\n",
    "        song=[a,b,c,d,e,f,g,h,i,j]\n",
    "        songlist=random.sample(song,1)\n",
    "        for i in songlist:\n",
    "            display(YouTubeVideo(i))\n",
    "elif('中文')in x:\n",
    "    def video():\n",
    "        a='FMl7GEaYwAE'\n",
    "        b='sSidvDS5Naw'\n",
    "        c='4bSeT_9gmJs'\n",
    "        d='Wcp4VAAM468'\n",
    "        e='mydR2QvsEoU'\n",
    "        f='JFd6FvBjpnU'\n",
    "        g='iV8JDbtXZm4'\n",
    "        h='mlvoJyk0W8E'\n",
    "        i='Wdg-_HTko3k'\n",
    "        j='xtSdgGHqnls'\n",
    "        song=[a,b,c,d,e,f,g,h,i,j]\n",
    "        songlist=random.sample(song,1)\n",
    "        for i in songlist:\n",
    "            display(YouTubeVideo(i))"
   ]
  },
  {
   "cell_type": "code",
   "execution_count": 99,
   "metadata": {
    "scrolled": true
   },
   "outputs": [
    {
     "data": {
      "application/vnd.jupyter.widget-view+json": {
       "model_id": "b603bd8d6be34e17b8ffeff1d69b50ca",
       "version_major": 2,
       "version_minor": 0
      },
      "text/plain": [
       "interactive(children=(Button(description='Run Interact', style=ButtonStyle()), Output()), _dom_classes=('widge…"
      ]
     },
     "metadata": {},
     "output_type": "display_data"
    }
   ],
   "source": [
    "interact_manual(video);"
   ]
  }
 ],
 "metadata": {
  "kernelspec": {
   "display_name": "Python 3",
   "language": "python",
   "name": "python3"
  },
  "language_info": {
   "codemirror_mode": {
    "name": "ipython",
    "version": 3
   },
   "file_extension": ".py",
   "mimetype": "text/x-python",
   "name": "python",
   "nbconvert_exporter": "python",
   "pygments_lexer": "ipython3",
   "version": "3.7.3"
  }
 },
 "nbformat": 4,
 "nbformat_minor": 2
}
