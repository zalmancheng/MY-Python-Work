{
 "cells": [
  {
   "cell_type": "markdown",
   "metadata": {},
   "source": [
    "# 猜數字遊戲"
   ]
  },
  {
   "cell_type": "code",
   "execution_count": 6,
   "metadata": {},
   "outputs": [
    {
     "name": "stdout",
     "output_type": "stream",
     "text": [
      "Populating the interactive namespace from numpy and matplotlib\n"
     ]
    }
   ],
   "source": [
    "%pylab inline"
   ]
  },
  {
   "cell_type": "code",
   "execution_count": 7,
   "metadata": {},
   "outputs": [
    {
     "name": "stdout",
     "output_type": "stream",
     "text": [
      "數字是多少呢？>>67\n",
      "太大了呦\n",
      "數字是多少呢？>>56\n",
      "太大了呦\n",
      "數字是多少呢？>>45\n",
      "太大了呦\n",
      "數字是多少呢？>>34\n",
      "太大了呦\n",
      "數字是多少呢？>>23\n",
      "太大了呦\n",
      "數字是多少呢？>>12\n",
      "太大了呦\n",
      "數字是多少呢？>>11\n",
      "太大了呦\n",
      "數字是多少呢？>>9\n",
      "太大了呦\n",
      "數字是多少呢？>>6\n",
      "答對了!!!\n"
     ]
    }
   ],
   "source": [
    "x=randint(1,101 )\n",
    "while z!=x:\n",
    "    y=input(\"數字是多少呢？>>\")\n",
    "    z=float(y)\n",
    "    if z==x:\n",
    "        print(\"答對了!!!\") \n",
    "    elif z<x:    \n",
    "        print(\"太小了呦\") \n",
    "    elif z>x:\n",
    "        print(\"太大了呦\")"
   ]
  },
  {
   "cell_type": "markdown",
   "metadata": {},
   "source": [
    "# 感恩讚嘆機器人"
   ]
  },
  {
   "cell_type": "code",
   "execution_count": 9,
   "metadata": {
    "scrolled": true
   },
   "outputs": [
    {
     "name": "stdout",
     "output_type": "stream",
     "text": [
      "Say Something>>你好\n",
      "感恩檯燈，讚嘆檯燈。\n"
     ]
    }
   ],
   "source": [
    "talk=input(\"Say Something>>\")\n",
    "print(\"感恩檯燈，讚嘆檯燈。\")"
   ]
  }
 ],
 "metadata": {
  "kernelspec": {
   "display_name": "Python 3",
   "language": "python",
   "name": "python3"
  },
  "language_info": {
   "codemirror_mode": {
    "name": "ipython",
    "version": 3
   },
   "file_extension": ".py",
   "mimetype": "text/x-python",
   "name": "python",
   "nbconvert_exporter": "python",
   "pygments_lexer": "ipython3",
   "version": "3.7.3"
  }
 },
 "nbformat": 4,
 "nbformat_minor": 2
}
