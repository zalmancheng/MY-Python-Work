{
 "cells": [
  {
   "cell_type": "code",
   "execution_count": 6,
   "metadata": {},
   "outputs": [],
   "source": [
    "import time\n",
    "import datetime\n",
    "from ipywidgets import interact"
   ]
  },
  {
   "cell_type": "code",
   "execution_count": 7,
   "metadata": {},
   "outputs": [
    {
     "name": "stdout",
     "output_type": "stream",
     "text": [
      "年度:2019\n",
      "月份:3\n",
      "日期:3\n",
      "請問是否查詢2019/3/3出發班次的搶票時間?>>>是\n"
     ]
    }
   ],
   "source": [
    "r=()\n",
    "while r!=\"是\":\n",
    "    Year=input(\"年度:\")\n",
    "    Month=input(\"月份:\")\n",
    "    Date=input(\"日期:\")\n",
    "    r=input(\"請問是否查詢{}/{}/{}出發班次的搶票時間?>>>\".format(Year,Month,Date))"
   ]
  },
  {
   "cell_type": "code",
   "execution_count": 8,
   "metadata": {},
   "outputs": [],
   "source": [
    "b=datetime.date(int(Year),int(Month),int(Date))"
   ]
  },
  {
   "cell_type": "code",
   "execution_count": 9,
   "metadata": {},
   "outputs": [],
   "source": [
    "def t(交通方式):\n",
    "    print(交通方式)"
   ]
  },
  {
   "cell_type": "code",
   "execution_count": 10,
   "metadata": {},
   "outputs": [
    {
     "data": {
      "application/vnd.jupyter.widget-view+json": {
       "model_id": "e8241b0bfc1741abb7d0424999b20de5",
       "version_major": 2,
       "version_minor": 0
      },
      "text/plain": [
       "interactive(children=(Dropdown(description='交通方式', options={'高鐵': datetime.date(2019, 2, 3), '火車': datetime.da…"
      ]
     },
     "metadata": {},
     "output_type": "display_data"
    }
   ],
   "source": [
    "interact(t,交通方式={\"高鐵\":b-datetime.timedelta(days = 28),\n",
    "                            \"火車\":b-datetime.timedelta(days = 14),\n",
    "                            \"和欣客運\":b-datetime.timedelta(days = 15),\n",
    "                            \"統聯客運\":b-datetime.timedelta(days = 17),\n",
    "                            \"國光客運\":b-datetime.timedelta(days = 15)});"
   ]
  },
  {
   "cell_type": "code",
   "execution_count": null,
   "metadata": {},
   "outputs": [],
   "source": []
  },
  {
   "cell_type": "code",
   "execution_count": null,
   "metadata": {},
   "outputs": [],
   "source": []
  }
 ],
 "metadata": {
  "kernelspec": {
   "display_name": "Python 3",
   "language": "python",
   "name": "python3"
  },
  "language_info": {
   "codemirror_mode": {
    "name": "ipython",
    "version": 3
   },
   "file_extension": ".py",
   "mimetype": "text/x-python",
   "name": "python",
   "nbconvert_exporter": "python",
   "pygments_lexer": "ipython3",
   "version": "3.7.3"
  }
 },
 "nbformat": 4,
 "nbformat_minor": 2
}
