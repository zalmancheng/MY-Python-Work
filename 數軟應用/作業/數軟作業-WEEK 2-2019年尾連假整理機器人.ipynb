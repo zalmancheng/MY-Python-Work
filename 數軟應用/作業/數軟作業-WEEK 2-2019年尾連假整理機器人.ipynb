{
 "cells": [
  {
   "cell_type": "code",
   "execution_count": 10,
   "metadata": {},
   "outputs": [],
   "source": [
    "from ipywidgets import interact\n",
    "def f(Month):\n",
    "    print(Month)"
   ]
  },
  {
   "cell_type": "code",
   "execution_count": 11,
   "metadata": {},
   "outputs": [
    {
     "ename": "SyntaxError",
     "evalue": "invalid syntax (<ipython-input-11-1005da26e35e>, line 2)",
     "output_type": "error",
     "traceback": [
      "\u001b[0;36m  File \u001b[0;32m\"<ipython-input-11-1005da26e35e>\"\u001b[0;36m, line \u001b[0;32m2\u001b[0m\n\u001b[0;31m    if x =\"九月\":\u001b[0m\n\u001b[0m         ^\u001b[0m\n\u001b[0;31mSyntaxError\u001b[0m\u001b[0;31m:\u001b[0m invalid syntax\n"
     ]
    }
   ],
   "source": [
    "interact(f,x={\"九月\",\"十月\",\"十一月\",\"十二月\"})\n",
    "if x =\"九月\":\n",
    "    print(\"4\")"
   ]
  },
  {
   "cell_type": "code",
   "execution_count": 12,
   "metadata": {},
   "outputs": [
    {
     "data": {
      "text/plain": [
       "'9/13~9/15:中秋，烤肉別吃太多呀'"
      ]
     },
     "execution_count": 12,
     "metadata": {},
     "output_type": "execute_result"
    }
   ],
   "source": [
    "\"9/13~9/15:中秋，烤肉別吃太多呀\"\n"
   ]
  },
  {
   "cell_type": "code",
   "execution_count": 13,
   "metadata": {},
   "outputs": [
    {
     "ename": "SyntaxError",
     "evalue": "unexpected EOF while parsing (<ipython-input-13-8200e0c0ade8>, line 1)",
     "output_type": "error",
     "traceback": [
      "\u001b[0;36m  File \u001b[0;32m\"<ipython-input-13-8200e0c0ade8>\"\u001b[0;36m, line \u001b[0;32m1\u001b[0m\n\u001b[0;31m    interact(f, x=dict(九月=str(\"9/13-9/15:中秋節，烤肉別吃太多呀\")\u001b[0m\n\u001b[0m                                                      ^\u001b[0m\n\u001b[0;31mSyntaxError\u001b[0m\u001b[0;31m:\u001b[0m unexpected EOF while parsing\n"
     ]
    }
   ],
   "source": [
    "interact(f, x=dict(九月=str(\"9/13-9/15:中秋節，烤肉別吃太多呀\")"
   ]
  },
  {
   "cell_type": "code",
   "execution_count": 5,
   "metadata": {},
   "outputs": [
    {
     "data": {
      "application/vnd.jupyter.widget-view+json": {
       "model_id": "7f3e65e448fd496abd46b8f832d050ac",
       "version_major": 2,
       "version_minor": 0
      },
      "text/plain": [
       "interactive(children=(Dropdown(description='Month', options={'九月': '9/13-9/15:中秋節，烤肉別吃太多呀', '十月': '10/10-10/13…"
      ]
     },
     "metadata": {},
     "output_type": "display_data"
    },
    {
     "data": {
      "text/plain": [
       "<function __main__.f(Month)>"
      ]
     },
     "execution_count": 5,
     "metadata": {},
     "output_type": "execute_result"
    }
   ],
   "source": [
    "interact(f, Month=dict(九月=str(\"9/13-9/15:中秋節，烤肉別吃太多呀\"),\n",
    "                   十月=str(\"10/10-10/13:國慶日，希望明年還有國慶日\"),\n",
    "                   十一月=str(\"沒有放假，只有期中考:)\"),\n",
    "                   十二月=str(\"依然沒假，但寒假快到了!!!\")))"
   ]
  },
  {
   "cell_type": "code",
   "execution_count": 6,
   "metadata": {},
   "outputs": [
    {
     "data": {
      "application/vnd.jupyter.widget-view+json": {
       "model_id": "5e63114bebcd4142b5753a6316c5c021",
       "version_major": 2,
       "version_minor": 0
      },
      "text/plain": [
       "interactive(children=(Dropdown(description='Month', options={'九月': '9/13-9/15:中秋節，烤肉吃太多會胖', '十月': '10/10-10/13…"
      ]
     },
     "metadata": {},
     "output_type": "display_data"
    }
   ],
   "source": [
    "from ipywidgets import interact\n",
    "def f(Month):\n",
    "    print(Month)\n",
    "interact(f, Month=dict(九月=str(\"9/13-9/15:中秋節，烤肉吃太多會胖\"),\n",
    "                   十月=str(\"10/10-10/13:國慶日，希望明年還有國慶日\"),\n",
    "                   十一月=str(\"沒有放假，只有期中考:)\"),\n",
    "                   十二月=str(\"依然沒假，但寒假快到了!!!\")));"
   ]
  },
  {
   "cell_type": "code",
   "execution_count": null,
   "metadata": {},
   "outputs": [],
   "source": []
  }
 ],
 "metadata": {
  "kernelspec": {
   "display_name": "Python 3",
   "language": "python",
   "name": "python3"
  },
  "language_info": {
   "codemirror_mode": {
    "name": "ipython",
    "version": 3
   },
   "file_extension": ".py",
   "mimetype": "text/x-python",
   "name": "python",
   "nbconvert_exporter": "python",
   "pygments_lexer": "ipython3",
   "version": "3.7.3"
  }
 },
 "nbformat": 4,
 "nbformat_minor": 2
}
