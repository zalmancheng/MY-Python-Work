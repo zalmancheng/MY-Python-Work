{
 "cells": [
  {
   "cell_type": "code",
   "execution_count": 69,
   "metadata": {},
   "outputs": [],
   "source": [
    "import time\n",
    "import datetime\n",
    "from ipywidgets import interact"
   ]
  },
  {
   "cell_type": "code",
   "execution_count": 94,
   "metadata": {},
   "outputs": [
    {
     "name": "stdout",
     "output_type": "stream",
     "text": [
      "月份:1\n",
      "日期:16\n",
      "請問是否查詢1月/16日?>>>是\n"
     ]
    }
   ],
   "source": [
    "r=()\n",
    "while r!=\"是\":\n",
    "    Month=input(\"月份:\")\n",
    "    Date=input(\"日期:\")\n",
    "    r=input(\"請問是否查詢{}月/{}日?>>>\".format(Month,Date))"
   ]
  },
  {
   "cell_type": "code",
   "execution_count": 95,
   "metadata": {},
   "outputs": [],
   "source": [
    "b=datetime.date(2019,int(Month),int(Date))"
   ]
  },
  {
   "cell_type": "code",
   "execution_count": 96,
   "metadata": {},
   "outputs": [],
   "source": [
    "def t(Transportations):\n",
    "    print(Transportations)"
   ]
  },
  {
   "cell_type": "code",
   "execution_count": 99,
   "metadata": {},
   "outputs": [
    {
     "data": {
      "application/vnd.jupyter.widget-view+json": {
       "model_id": "5397404667d147f7b78e69ece3713804",
       "version_major": 2,
       "version_minor": 0
      },
      "text/plain": [
       "interactive(children=(Dropdown(description='Transportations', options={'高鐵': datetime.date(2018, 12, 19), '火車'…"
      ]
     },
     "metadata": {},
     "output_type": "display_data"
    },
    {
     "data": {
      "text/plain": [
       "<function __main__.t(Transportations)>"
      ]
     },
     "execution_count": 99,
     "metadata": {},
     "output_type": "execute_result"
    }
   ],
   "source": [
    "interact(t,Transportations={\"高鐵\":b-datetime.timedelta(days = 28),\"火車\":b-datetime.timedelta(days = 14),\n",
    "                            \"和欣客運\":b-datetime.timedelta(days = 15),\"統聯客運\":b-datetime.timedelta(days = 17),\"國光客運\":b-datetime.timedelta(days = 15)})"
   ]
  },
  {
   "cell_type": "code",
   "execution_count": null,
   "metadata": {},
   "outputs": [],
   "source": []
  }
 ],
 "metadata": {
  "kernelspec": {
   "display_name": "Python 3",
   "language": "python",
   "name": "python3"
  },
  "language_info": {
   "codemirror_mode": {
    "name": "ipython",
    "version": 3
   },
   "file_extension": ".py",
   "mimetype": "text/x-python",
   "name": "python",
   "nbconvert_exporter": "python",
   "pygments_lexer": "ipython3",
   "version": "3.7.3"
  }
 },
 "nbformat": 4,
 "nbformat_minor": 2
}
