{
 "cells": [
  {
   "cell_type": "code",
   "execution_count": 1,
   "metadata": {},
   "outputs": [],
   "source": [
    "import time\n",
    "import random"
   ]
  },
  {
   "cell_type": "code",
   "execution_count": 4,
   "metadata": {
    "scrolled": true
   },
   "outputs": [
    {
     "name": "stdout",
     "output_type": "stream",
     "text": [
      "嘿騷年 是什麼煩惱纏著你呢？>>>我不知道人生有什麼希望\n",
      "那你為什麼不問問神奇海螺呢？\n",
      "神奇海螺：騷年怎麼啦>>>神奇海螺，我真的可以把python學好嗎？\n",
      "別讓壓力驅使你\n",
      "神奇海螺：騷年怎麼啦>>>別讓壓力驅使我。。。那我該怎麼做\n",
      "有把握再嘗試\n",
      "神奇海螺：騷年怎麼啦>>>是啊～就算沒把握也要說服自己才能有沖勁呢！那我會脫魯嗎\n",
      "儘早去做\n",
      "神奇海螺：騷年怎麼啦>>>這樣就會成功嗎\n",
      "這具有重大意義\n",
      "神奇海螺：騷年怎麼啦>>>什麼意義\n",
      "採用一種大膽的態度\n",
      "神奇海螺：騷年怎麼啦>>>大膽的態度！就是這個！！！謝謝神奇海螺，我知道了\n"
     ]
    }
   ],
   "source": [
    "x=input(\"嘿騷年 是什麼煩惱纏著你呢？>>>\")\n",
    "print(\"那你為什麼不問問神奇海螺呢？\")\n",
    "y=()\n",
    "time.sleep(1)\n",
    "while \"我知道了\" not in y:\n",
    "    y=input(\"神奇海螺：騷年怎麼啦>>>\")\n",
    "    if \"我知道了\"in y:\n",
    "        break\n",
    "    else:\n",
    "        print( random.choice(['相信你內心的聲音','答案可能會在另一種語言裡','它將使你撐下去','儘早去做','這具有重大意義','你必須讓步',\n",
    "                              '不要猶豫','嘗試一下','絕不','有把握再嘗試','答案就在你的後院','當然','無解，問點別的吧','要謹慎','別再問了','列出你的理由','我累了',\n",
    "                              '別讓壓力驅使你','要有耐心','很有難度','這次你能贏','靜觀其變','時機不成熟','青春無價','採用一種大膽的態度','說聲謝謝即可','別盲從']) )"
   ]
  },
  {
   "cell_type": "markdown",
   "metadata": {},
   "source": [
    "# 注意上方print如何隨機從串列取物！！！"
   ]
  },
  {
   "cell_type": "code",
   "execution_count": null,
   "metadata": {},
   "outputs": [],
   "source": []
  }
 ],
 "metadata": {
  "kernelspec": {
   "display_name": "Python 3",
   "language": "python",
   "name": "python3"
  },
  "language_info": {
   "codemirror_mode": {
    "name": "ipython",
    "version": 3
   },
   "file_extension": ".py",
   "mimetype": "text/x-python",
   "name": "python",
   "nbconvert_exporter": "python",
   "pygments_lexer": "ipython3",
   "version": "3.7.3"
  }
 },
 "nbformat": 4,
 "nbformat_minor": 2
}
