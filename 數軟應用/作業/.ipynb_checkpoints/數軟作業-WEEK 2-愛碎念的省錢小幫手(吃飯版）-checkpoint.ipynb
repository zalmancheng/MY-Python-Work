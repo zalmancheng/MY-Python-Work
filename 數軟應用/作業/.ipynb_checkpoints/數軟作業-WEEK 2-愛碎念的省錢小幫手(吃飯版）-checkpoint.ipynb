{
 "cells": [
  {
   "cell_type": "code",
   "execution_count": 1,
   "metadata": {},
   "outputs": [
    {
     "name": "stdout",
     "output_type": "stream",
     "text": [
      "來乖乖記帳嗎？是啊\n",
      "今天吃飯花了多少錢呀?_?>>200\n",
      "哎呦很會嘛～保持下去啊!!!\n",
      "今天吃飯花了多少錢呀?_?>>100\n",
      "哎呦很會嘛～保持下去啊!!!\n",
      "今天吃飯花了多少錢呀?_?>>沒\n"
     ]
    },
    {
     "ename": "ValueError",
     "evalue": "could not convert string to float: '沒'",
     "output_type": "error",
     "traceback": [
      "\u001b[0;31m---------------------------------------------------------------------------\u001b[0m",
      "\u001b[0;31mValueError\u001b[0m                                Traceback (most recent call last)",
      "\u001b[0;32m<ipython-input-1-85b0001c693d>\u001b[0m in \u001b[0;36m<module>\u001b[0;34m\u001b[0m\n\u001b[1;32m      3\u001b[0m \u001b[0;32mwhile\u001b[0m \u001b[0;34m\"沒\"\u001b[0m \u001b[0;32mnot\u001b[0m \u001b[0;32min\u001b[0m \u001b[0mmoney\u001b[0m\u001b[0;34m:\u001b[0m\u001b[0;34m\u001b[0m\u001b[0;34m\u001b[0m\u001b[0m\n\u001b[1;32m      4\u001b[0m     \u001b[0mmoney\u001b[0m\u001b[0;34m=\u001b[0m\u001b[0minput\u001b[0m\u001b[0;34m(\u001b[0m\u001b[0;34m\"今天吃飯花了多少錢呀?_?>>\"\u001b[0m\u001b[0;34m)\u001b[0m\u001b[0;34m\u001b[0m\u001b[0;34m\u001b[0m\u001b[0m\n\u001b[0;32m----> 5\u001b[0;31m     \u001b[0mM\u001b[0m\u001b[0;34m=\u001b[0m\u001b[0mfloat\u001b[0m\u001b[0;34m(\u001b[0m\u001b[0mmoney\u001b[0m\u001b[0;34m)\u001b[0m\u001b[0;34m\u001b[0m\u001b[0;34m\u001b[0m\u001b[0m\n\u001b[0m\u001b[1;32m      6\u001b[0m     \u001b[0;32mif\u001b[0m \u001b[0;34m(\u001b[0m\u001b[0mM\u001b[0m\u001b[0;34m<=\u001b[0m\u001b[0;36m200\u001b[0m\u001b[0;34m)\u001b[0m\u001b[0;34m:\u001b[0m\u001b[0;34m\u001b[0m\u001b[0;34m\u001b[0m\u001b[0m\n\u001b[1;32m      7\u001b[0m         \u001b[0mprint\u001b[0m\u001b[0;34m(\u001b[0m\u001b[0;34m\"哎呦很會嘛～保持下去啊!!!\"\u001b[0m\u001b[0;34m)\u001b[0m\u001b[0;34m\u001b[0m\u001b[0;34m\u001b[0m\u001b[0m\n",
      "\u001b[0;31mValueError\u001b[0m: could not convert string to float: '沒'"
     ]
    }
   ],
   "source": [
    "money=()\n",
    "money=input(\"來乖乖記帳嗎？\")\n",
    "while \"沒\" not in money:\n",
    "    money=input(\"今天吃飯花了多少錢呀?_?>>\")\n",
    "    M=float(money)\n",
    "    if (M<=200):\n",
    "        print(\"哎呦很會嘛～保持下去啊!!!\")\n",
    "    elif (M>350):\n",
    "        print(\"哎你還是去打工吧米蟲\")\n",
    "    elif (M>300 and M<=350):\n",
    "        print(\"會不會太奢侈\")\n",
    "    elif (M>250 and M<=300):\n",
    "        print(\"給我注意一點啊\")\n",
    "    elif(M>200 and M<=250):\n",
    "        print(\"安九難道不好嗎?\")"
   ]
  },
  {
   "cell_type": "code",
   "execution_count": null,
   "metadata": {},
   "outputs": [],
   "source": []
  }
 ],
 "metadata": {
  "kernelspec": {
   "display_name": "Python 3",
   "language": "python",
   "name": "python3"
  },
  "language_info": {
   "codemirror_mode": {
    "name": "ipython",
    "version": 3
   },
   "file_extension": ".py",
   "mimetype": "text/x-python",
   "name": "python",
   "nbconvert_exporter": "python",
   "pygments_lexer": "ipython3",
   "version": "3.7.3"
  }
 },
 "nbformat": 4,
 "nbformat_minor": 2
}
