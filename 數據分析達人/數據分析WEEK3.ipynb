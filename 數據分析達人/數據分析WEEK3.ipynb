{
 "cells": [
  {
   "cell_type": "markdown",
   "metadata": {},
   "source": [
    "# 數據分析標準起手式(若記不住記得善用TAB)"
   ]
  },
  {
   "cell_type": "code",
   "execution_count": 1,
   "metadata": {},
   "outputs": [],
   "source": [
    "%matplotlib inline\n",
    "import numpy as np\n",
    "import matplotlib.pyplot as plt "
   ]
  },
  {
   "cell_type": "code",
   "execution_count": 2,
   "metadata": {},
   "outputs": [],
   "source": [
    "p=[234.5,523.5,554.5]"
   ]
  },
  {
   "cell_type": "code",
   "execution_count": 3,
   "metadata": {},
   "outputs": [],
   "source": [
    "c=30.1"
   ]
  },
  {
   "cell_type": "code",
   "execution_count": 4,
   "metadata": {},
   "outputs": [
    {
     "name": "stdout",
     "output_type": "stream",
     "text": [
      "7058.450000000001\n",
      "15757.35\n",
      "16690.45\n"
     ]
    }
   ],
   "source": [
    "for i in p:\n",
    "    print(i*c)"
   ]
  },
  {
   "cell_type": "markdown",
   "metadata": {},
   "source": [
    "# 丟東西進list==>list.append(要加入list的物)"
   ]
  },
  {
   "cell_type": "code",
   "execution_count": 5,
   "metadata": {},
   "outputs": [],
   "source": [
    "result=[]"
   ]
  },
  {
   "cell_type": "code",
   "execution_count": 6,
   "metadata": {},
   "outputs": [],
   "source": [
    "for i in p:\n",
    "    twd=(i*c)\n",
    "    result.append(twd)"
   ]
  },
  {
   "cell_type": "code",
   "execution_count": 7,
   "metadata": {},
   "outputs": [
    {
     "data": {
      "text/plain": [
       "[7058.450000000001, 15757.35, 16690.45]"
      ]
     },
     "execution_count": 7,
     "metadata": {},
     "output_type": "execute_result"
    }
   ],
   "source": [
    "result"
   ]
  },
  {
   "cell_type": "markdown",
   "metadata": {},
   "source": [
    "# 數據分析重要概念：不到最後關頭不用list or 迴圈，取而代之的array很好用▾"
   ]
  },
  {
   "cell_type": "code",
   "execution_count": 8,
   "metadata": {},
   "outputs": [],
   "source": [
    "p=[234.5,523.5,554.5]"
   ]
  },
  {
   "cell_type": "code",
   "execution_count": 9,
   "metadata": {},
   "outputs": [],
   "source": [
    "c=30.1"
   ]
  },
  {
   "cell_type": "markdown",
   "metadata": {},
   "source": [
    "## 把list轉為numpy array：np.array(p)"
   ]
  },
  {
   "cell_type": "code",
   "execution_count": 10,
   "metadata": {},
   "outputs": [],
   "source": [
    "prices=np.array(p)"
   ]
  },
  {
   "cell_type": "code",
   "execution_count": 11,
   "metadata": {},
   "outputs": [
    {
     "data": {
      "text/plain": [
       "array([234.5, 523.5, 554.5])"
      ]
     },
     "execution_count": 11,
     "metadata": {},
     "output_type": "execute_result"
    }
   ],
   "source": [
    "prices"
   ]
  },
  {
   "cell_type": "code",
   "execution_count": 12,
   "metadata": {},
   "outputs": [
    {
     "data": {
      "text/plain": [
       "array([ 7058.45, 15757.35, 16690.45])"
      ]
     },
     "execution_count": 12,
     "metadata": {},
     "output_type": "execute_result"
    }
   ],
   "source": [
    "prices*c"
   ]
  },
  {
   "cell_type": "markdown",
   "metadata": {},
   "source": [
    "## ▴此時發現不需用到for，c已乘入prices且自成一list"
   ]
  },
  {
   "cell_type": "code",
   "execution_count": 13,
   "metadata": {},
   "outputs": [],
   "source": [
    "grades=np.array([83,75,99])"
   ]
  },
  {
   "cell_type": "code",
   "execution_count": 14,
   "metadata": {},
   "outputs": [],
   "source": [
    "weights=np.array([0.3,0.4,0.4])"
   ]
  },
  {
   "cell_type": "code",
   "execution_count": 15,
   "metadata": {},
   "outputs": [],
   "source": [
    "totals=grades*weights"
   ]
  },
  {
   "cell_type": "code",
   "execution_count": 16,
   "metadata": {
    "scrolled": true
   },
   "outputs": [
    {
     "data": {
      "text/plain": [
       "array([24.9, 30. , 39.6])"
      ]
     },
     "execution_count": 16,
     "metadata": {},
     "output_type": "execute_result"
    }
   ],
   "source": [
    "totals"
   ]
  },
  {
   "cell_type": "code",
   "execution_count": 17,
   "metadata": {},
   "outputs": [
    {
     "data": {
      "text/plain": [
       "94.5"
      ]
     },
     "execution_count": 17,
     "metadata": {},
     "output_type": "execute_result"
    }
   ],
   "source": [
    "totals.sum()"
   ]
  },
  {
   "cell_type": "markdown",
   "metadata": {},
   "source": [
    "# np.dot(array1,array2)=array1與array2做內積"
   ]
  },
  {
   "cell_type": "code",
   "execution_count": 18,
   "metadata": {},
   "outputs": [
    {
     "data": {
      "text/plain": [
       "94.5"
      ]
     },
     "execution_count": 18,
     "metadata": {},
     "output_type": "execute_result"
    }
   ],
   "source": [
    "np.dot(grades,weights)"
   ]
  },
  {
   "cell_type": "markdown",
   "metadata": {},
   "source": [
    "# array不只是一維，也可以是二維的\n",
    "## ▾我們放出四位同學的個別三份分數做計算"
   ]
  },
  {
   "cell_type": "code",
   "execution_count": 19,
   "metadata": {},
   "outputs": [],
   "source": [
    "people=np.array([[67,53,82],[52,66,87],[85,72,89],[92,89,95]])"
   ]
  },
  {
   "cell_type": "code",
   "execution_count": 20,
   "metadata": {},
   "outputs": [],
   "source": [
    "weights=np.array([0.3,0.4,0.4])"
   ]
  },
  {
   "cell_type": "code",
   "execution_count": 21,
   "metadata": {},
   "outputs": [
    {
     "data": {
      "text/plain": [
       "array([ 74.1,  76.8,  89.9, 101.2])"
      ]
     },
     "execution_count": 21,
     "metadata": {},
     "output_type": "execute_result"
    }
   ],
   "source": [
    "np.dot(people,weights)"
   ]
  },
  {
   "cell_type": "markdown",
   "metadata": {},
   "source": [
    "## ▴原理就是python將weights視為一個元素，去跟people做內積"
   ]
  },
  {
   "cell_type": "code",
   "execution_count": 56,
   "metadata": {},
   "outputs": [],
   "source": [
    "A=np.random.randn(100)"
   ]
  },
  {
   "cell_type": "code",
   "execution_count": 57,
   "metadata": {},
   "outputs": [
    {
     "data": {
      "text/plain": [
       "array([-1.65438631e+00,  2.55986811e+00,  1.00207278e+00, -1.48940406e-01,\n",
       "        3.99784733e-02, -6.29779104e-01,  1.73662131e+00,  5.09744073e-02,\n",
       "       -8.80253526e-01,  5.04856140e-01, -4.97752263e-01, -2.15228223e-01,\n",
       "        6.27002608e-01, -2.02328112e+00, -1.79901073e+00, -5.52871687e-01,\n",
       "       -4.50168347e-01, -2.45769823e+00,  3.90174790e-01,  8.77603827e-01,\n",
       "       -5.72178175e-01, -3.11164790e-01, -1.04618213e+00, -1.05849442e+00,\n",
       "       -7.50214938e-01, -3.10596081e-01,  9.48004422e-01,  1.65834599e+00,\n",
       "        4.36246019e-01, -7.91255335e-01, -1.63667205e+00, -3.64031605e-01,\n",
       "       -3.99496540e-01,  7.26686800e-01,  5.20358208e-02,  1.51584262e-01,\n",
       "        1.44888562e+00, -2.52063277e-01, -1.04497613e+00, -7.46883626e-01,\n",
       "        1.26258959e+00, -5.95828925e-01,  1.73398658e+00, -9.14366545e-01,\n",
       "        1.01705050e+00, -9.59630342e-01, -2.36196304e-01,  5.63983845e-01,\n",
       "       -1.79382775e-02, -1.24900561e+00, -8.74772510e-02, -3.12280943e-01,\n",
       "       -5.62191656e-02, -1.00350970e+00, -2.61301269e+00,  2.35851678e-01,\n",
       "       -5.66117358e-01, -1.35666354e-01,  1.18160583e+00, -8.27962951e-01,\n",
       "        8.13061753e-01,  2.17247085e-01, -5.83221899e-01,  6.85772701e-01,\n",
       "        2.33916959e-01, -1.23312006e+00,  4.80935564e-01, -7.45705688e-02,\n",
       "       -2.32149223e+00,  9.84625972e-01,  3.04386531e-01,  1.43841026e+00,\n",
       "        1.27571514e+00,  1.77028479e+00,  7.70645585e-01, -2.04435081e+00,\n",
       "       -3.68930905e-01, -7.09143212e-01,  6.56097179e-01, -1.43355569e-03,\n",
       "        4.49019053e-01,  6.63101671e-01,  1.54322110e+00,  5.66679505e-01,\n",
       "        6.11625606e-01, -5.14529154e-01,  2.27559581e-01, -4.32387363e-01,\n",
       "        1.39870758e+00,  7.65833843e-01,  4.97329684e-01,  8.32369453e-01,\n",
       "       -1.11766149e+00, -1.99845915e+00, -4.16357869e-01, -1.03415519e-02,\n",
       "        4.36251188e-02,  1.71762783e+00,  1.92484470e+00, -1.81065875e+00])"
      ]
     },
     "execution_count": 57,
     "metadata": {},
     "output_type": "execute_result"
    }
   ],
   "source": [
    "A"
   ]
  },
  {
   "cell_type": "code",
   "execution_count": 58,
   "metadata": {},
   "outputs": [
    {
     "data": {
      "text/plain": [
       "(100,)"
      ]
     },
     "execution_count": 58,
     "metadata": {},
     "output_type": "execute_result"
    }
   ],
   "source": [
    "A.shape"
   ]
  },
  {
   "cell_type": "markdown",
   "metadata": {},
   "source": [
    "# .shape可以看出array的形狀（上方為100維）\n",
    "## ▾.shape=(列數,行數）可改變array形狀（注意：列*行需=array的維數）"
   ]
  },
  {
   "cell_type": "code",
   "execution_count": 25,
   "metadata": {},
   "outputs": [],
   "source": [
    "A.shape=(5,20)"
   ]
  },
  {
   "cell_type": "code",
   "execution_count": 26,
   "metadata": {},
   "outputs": [
    {
     "data": {
      "text/plain": [
       "array([[ 0.3624616 ,  0.09720146, -0.76048249,  0.70689446, -0.67326068,\n",
       "         0.45356451, -0.31685448, -1.93954148,  0.68031539,  1.17954145,\n",
       "        -1.04935787, -0.73200936,  0.18442984, -2.00644614,  0.45361843,\n",
       "         1.5691217 ,  0.90520212, -2.53569585, -0.44385168,  0.74270135],\n",
       "       [-0.25243512,  0.77891165, -0.20155612,  0.71336783,  0.27066061,\n",
       "        -1.30426223,  1.2329534 , -0.04733863, -2.08549892,  0.14167795,\n",
       "         0.52276159, -0.32395356,  0.30239612,  1.43919318,  0.29037011,\n",
       "         0.64195203, -0.30675804,  0.97843452,  0.29574935,  1.05821294],\n",
       "       [ 0.55113726, -0.48169922,  0.24853308,  0.59291112, -1.27067633,\n",
       "        -0.3002102 , -0.60532775, -0.86316196, -0.87392655, -0.4388532 ,\n",
       "         1.44544534, -0.21437106, -0.82503805, -0.32676404,  0.47729005,\n",
       "         0.05385491, -0.26034553, -0.93459037, -0.84437027, -0.56807575],\n",
       "       [ 0.37186761, -0.92273343,  1.87581882,  0.74861818,  0.0429451 ,\n",
       "         0.36339146, -0.43635817, -1.95031175, -0.08404209, -0.28375601,\n",
       "         0.5855156 , -1.419928  , -0.34841523, -1.17140899, -0.82630263,\n",
       "         0.45081835,  1.63048645, -1.71286323,  1.10307019,  0.87014117],\n",
       "       [-0.4286692 , -1.01664069, -0.86414749, -1.56428135,  0.25801517,\n",
       "         0.13963225,  0.16219763,  0.68578841, -0.05412315, -0.63763926,\n",
       "        -1.32265457,  0.20401057,  0.59767674,  0.9342746 , -1.30068787,\n",
       "         0.71387936,  0.52396896,  0.61847805,  0.11976089, -0.27602342]])"
      ]
     },
     "execution_count": 26,
     "metadata": {},
     "output_type": "execute_result"
    }
   ],
   "source": [
    "A"
   ]
  },
  {
   "cell_type": "markdown",
   "metadata": {},
   "source": [
    "# ▾另一個可改變array形狀的方法（但不會改變原先的，而是另外輸出）"
   ]
  },
  {
   "cell_type": "code",
   "execution_count": 27,
   "metadata": {},
   "outputs": [
    {
     "data": {
      "text/plain": [
       "array([[ 0.3624616 ,  0.09720146, -0.76048249,  0.70689446, -0.67326068,\n",
       "         0.45356451, -0.31685448, -1.93954148,  0.68031539,  1.17954145],\n",
       "       [-1.04935787, -0.73200936,  0.18442984, -2.00644614,  0.45361843,\n",
       "         1.5691217 ,  0.90520212, -2.53569585, -0.44385168,  0.74270135],\n",
       "       [-0.25243512,  0.77891165, -0.20155612,  0.71336783,  0.27066061,\n",
       "        -1.30426223,  1.2329534 , -0.04733863, -2.08549892,  0.14167795],\n",
       "       [ 0.52276159, -0.32395356,  0.30239612,  1.43919318,  0.29037011,\n",
       "         0.64195203, -0.30675804,  0.97843452,  0.29574935,  1.05821294],\n",
       "       [ 0.55113726, -0.48169922,  0.24853308,  0.59291112, -1.27067633,\n",
       "        -0.3002102 , -0.60532775, -0.86316196, -0.87392655, -0.4388532 ],\n",
       "       [ 1.44544534, -0.21437106, -0.82503805, -0.32676404,  0.47729005,\n",
       "         0.05385491, -0.26034553, -0.93459037, -0.84437027, -0.56807575],\n",
       "       [ 0.37186761, -0.92273343,  1.87581882,  0.74861818,  0.0429451 ,\n",
       "         0.36339146, -0.43635817, -1.95031175, -0.08404209, -0.28375601],\n",
       "       [ 0.5855156 , -1.419928  , -0.34841523, -1.17140899, -0.82630263,\n",
       "         0.45081835,  1.63048645, -1.71286323,  1.10307019,  0.87014117],\n",
       "       [-0.4286692 , -1.01664069, -0.86414749, -1.56428135,  0.25801517,\n",
       "         0.13963225,  0.16219763,  0.68578841, -0.05412315, -0.63763926],\n",
       "       [-1.32265457,  0.20401057,  0.59767674,  0.9342746 , -1.30068787,\n",
       "         0.71387936,  0.52396896,  0.61847805,  0.11976089, -0.27602342]])"
      ]
     },
     "execution_count": 27,
     "metadata": {},
     "output_type": "execute_result"
    }
   ],
   "source": [
    "A.reshape(10,10)"
   ]
  },
  {
   "cell_type": "code",
   "execution_count": 28,
   "metadata": {},
   "outputs": [
    {
     "data": {
      "text/plain": [
       "array([[ 0.3624616 ,  0.09720146, -0.76048249,  0.70689446, -0.67326068,\n",
       "         0.45356451, -0.31685448, -1.93954148,  0.68031539,  1.17954145,\n",
       "        -1.04935787, -0.73200936,  0.18442984, -2.00644614,  0.45361843,\n",
       "         1.5691217 ,  0.90520212, -2.53569585, -0.44385168,  0.74270135],\n",
       "       [-0.25243512,  0.77891165, -0.20155612,  0.71336783,  0.27066061,\n",
       "        -1.30426223,  1.2329534 , -0.04733863, -2.08549892,  0.14167795,\n",
       "         0.52276159, -0.32395356,  0.30239612,  1.43919318,  0.29037011,\n",
       "         0.64195203, -0.30675804,  0.97843452,  0.29574935,  1.05821294],\n",
       "       [ 0.55113726, -0.48169922,  0.24853308,  0.59291112, -1.27067633,\n",
       "        -0.3002102 , -0.60532775, -0.86316196, -0.87392655, -0.4388532 ,\n",
       "         1.44544534, -0.21437106, -0.82503805, -0.32676404,  0.47729005,\n",
       "         0.05385491, -0.26034553, -0.93459037, -0.84437027, -0.56807575],\n",
       "       [ 0.37186761, -0.92273343,  1.87581882,  0.74861818,  0.0429451 ,\n",
       "         0.36339146, -0.43635817, -1.95031175, -0.08404209, -0.28375601,\n",
       "         0.5855156 , -1.419928  , -0.34841523, -1.17140899, -0.82630263,\n",
       "         0.45081835,  1.63048645, -1.71286323,  1.10307019,  0.87014117],\n",
       "       [-0.4286692 , -1.01664069, -0.86414749, -1.56428135,  0.25801517,\n",
       "         0.13963225,  0.16219763,  0.68578841, -0.05412315, -0.63763926,\n",
       "        -1.32265457,  0.20401057,  0.59767674,  0.9342746 , -1.30068787,\n",
       "         0.71387936,  0.52396896,  0.61847805,  0.11976089, -0.27602342]])"
      ]
     },
     "execution_count": 28,
     "metadata": {},
     "output_type": "execute_result"
    }
   ],
   "source": [
    "A"
   ]
  },
  {
   "cell_type": "code",
   "execution_count": 29,
   "metadata": {},
   "outputs": [],
   "source": [
    "A=A.reshape(10,10)"
   ]
  },
  {
   "cell_type": "code",
   "execution_count": 30,
   "metadata": {
    "scrolled": true
   },
   "outputs": [
    {
     "data": {
      "text/plain": [
       "array([[ 0.3624616 ,  0.09720146, -0.76048249,  0.70689446, -0.67326068,\n",
       "         0.45356451, -0.31685448, -1.93954148,  0.68031539,  1.17954145],\n",
       "       [-1.04935787, -0.73200936,  0.18442984, -2.00644614,  0.45361843,\n",
       "         1.5691217 ,  0.90520212, -2.53569585, -0.44385168,  0.74270135],\n",
       "       [-0.25243512,  0.77891165, -0.20155612,  0.71336783,  0.27066061,\n",
       "        -1.30426223,  1.2329534 , -0.04733863, -2.08549892,  0.14167795],\n",
       "       [ 0.52276159, -0.32395356,  0.30239612,  1.43919318,  0.29037011,\n",
       "         0.64195203, -0.30675804,  0.97843452,  0.29574935,  1.05821294],\n",
       "       [ 0.55113726, -0.48169922,  0.24853308,  0.59291112, -1.27067633,\n",
       "        -0.3002102 , -0.60532775, -0.86316196, -0.87392655, -0.4388532 ],\n",
       "       [ 1.44544534, -0.21437106, -0.82503805, -0.32676404,  0.47729005,\n",
       "         0.05385491, -0.26034553, -0.93459037, -0.84437027, -0.56807575],\n",
       "       [ 0.37186761, -0.92273343,  1.87581882,  0.74861818,  0.0429451 ,\n",
       "         0.36339146, -0.43635817, -1.95031175, -0.08404209, -0.28375601],\n",
       "       [ 0.5855156 , -1.419928  , -0.34841523, -1.17140899, -0.82630263,\n",
       "         0.45081835,  1.63048645, -1.71286323,  1.10307019,  0.87014117],\n",
       "       [-0.4286692 , -1.01664069, -0.86414749, -1.56428135,  0.25801517,\n",
       "         0.13963225,  0.16219763,  0.68578841, -0.05412315, -0.63763926],\n",
       "       [-1.32265457,  0.20401057,  0.59767674,  0.9342746 , -1.30068787,\n",
       "         0.71387936,  0.52396896,  0.61847805,  0.11976089, -0.27602342]])"
      ]
     },
     "execution_count": 30,
     "metadata": {},
     "output_type": "execute_result"
    }
   ],
   "source": [
    "A"
   ]
  },
  {
   "cell_type": "markdown",
   "metadata": {},
   "source": [
    "# np.x((a,b))=做出一個形狀為axb且數值為x的array"
   ]
  },
  {
   "cell_type": "code",
   "execution_count": 31,
   "metadata": {},
   "outputs": [
    {
     "data": {
      "text/plain": [
       "array([[1., 1., 1., 1.],\n",
       "       [1., 1., 1., 1.],\n",
       "       [1., 1., 1., 1.]])"
      ]
     },
     "execution_count": 31,
     "metadata": {},
     "output_type": "execute_result"
    }
   ],
   "source": [
    "np.ones((3,4))"
   ]
  },
  {
   "cell_type": "markdown",
   "metadata": {},
   "source": [
    "# np.eye(n)生成一個nxn的單位矩陣"
   ]
  },
  {
   "cell_type": "code",
   "execution_count": 32,
   "metadata": {},
   "outputs": [
    {
     "data": {
      "text/plain": [
       "array([[1., 0., 0., 0.],\n",
       "       [0., 1., 0., 0.],\n",
       "       [0., 0., 1., 0.],\n",
       "       [0., 0., 0., 1.]])"
      ]
     },
     "execution_count": 32,
     "metadata": {},
     "output_type": "execute_result"
    }
   ],
   "source": [
    "np.eye(4)"
   ]
  },
  {
   "cell_type": "markdown",
   "metadata": {},
   "source": [
    "# 用array特性做圖\n",
    "## np.linspace(a,b,c)指在a,b間取c個點"
   ]
  },
  {
   "cell_type": "code",
   "execution_count": 45,
   "metadata": {},
   "outputs": [],
   "source": [
    "x=np.linspace(1,20,50)"
   ]
  },
  {
   "cell_type": "code",
   "execution_count": 46,
   "metadata": {},
   "outputs": [
    {
     "data": {
      "text/plain": [
       "array([ 1.        ,  1.3877551 ,  1.7755102 ,  2.16326531,  2.55102041,\n",
       "        2.93877551,  3.32653061,  3.71428571,  4.10204082,  4.48979592,\n",
       "        4.87755102,  5.26530612,  5.65306122,  6.04081633,  6.42857143,\n",
       "        6.81632653,  7.20408163,  7.59183673,  7.97959184,  8.36734694,\n",
       "        8.75510204,  9.14285714,  9.53061224,  9.91836735, 10.30612245,\n",
       "       10.69387755, 11.08163265, 11.46938776, 11.85714286, 12.24489796,\n",
       "       12.63265306, 13.02040816, 13.40816327, 13.79591837, 14.18367347,\n",
       "       14.57142857, 14.95918367, 15.34693878, 15.73469388, 16.12244898,\n",
       "       16.51020408, 16.89795918, 17.28571429, 17.67346939, 18.06122449,\n",
       "       18.44897959, 18.83673469, 19.2244898 , 19.6122449 , 20.        ])"
      ]
     },
     "execution_count": 46,
     "metadata": {},
     "output_type": "execute_result"
    }
   ],
   "source": [
    "x"
   ]
  },
  {
   "cell_type": "code",
   "execution_count": 47,
   "metadata": {},
   "outputs": [
    {
     "data": {
      "text/plain": [
       "[<matplotlib.lines.Line2D at 0x112d306d8>]"
      ]
     },
     "execution_count": 47,
     "metadata": {},
     "output_type": "execute_result"
    },
    {
     "data": {
      "image/png": "[encoded data removed]",
      "text/plain": [
       "<Figure size 432x288 with 1 Axes>"
      ]
     },
     "metadata": {
      "needs_background": "light"
     },
     "output_type": "display_data"
    }
   ],
   "source": [
    "plt.plot(x,np.sin(x)+x)\n",
    "plt.plot(x,np.cos(x)+x)"
   ]
  },
  {
   "cell_type": "code",
   "execution_count": 48,
   "metadata": {},
   "outputs": [],
   "source": [
    "D=np.array([34,-23,55,-234,99,-54])"
   ]
  },
  {
   "cell_type": "code",
   "execution_count": 49,
   "metadata": {
    "scrolled": true
   },
   "outputs": [
    {
     "data": {
      "text/plain": [
       "array([False,  True, False,  True, False,  True])"
      ]
     },
     "execution_count": 49,
     "metadata": {},
     "output_type": "execute_result"
    }
   ],
   "source": [
    "D<0"
   ]
  },
  {
   "cell_type": "markdown",
   "metadata": {},
   "source": [
    "# array可用來挑選符合條件的元素 array=array[條件]"
   ]
  },
  {
   "cell_type": "code",
   "execution_count": 50,
   "metadata": {},
   "outputs": [
    {
     "data": {
      "text/plain": [
       "array([ -23, -234,  -54])"
      ]
     },
     "execution_count": 50,
     "metadata": {},
     "output_type": "execute_result"
    }
   ],
   "source": [
    "D[D<0]"
   ]
  },
  {
   "cell_type": "code",
   "execution_count": 51,
   "metadata": {},
   "outputs": [],
   "source": [
    "e=np.linspace(-4,4,300)\n",
    "r=np.sinc(e)"
   ]
  },
  {
   "cell_type": "code",
   "execution_count": 52,
   "metadata": {},
   "outputs": [
    {
     "data": {
      "text/plain": [
       "[<matplotlib.lines.Line2D at 0x1131c8b00>]"
      ]
     },
     "execution_count": 52,
     "metadata": {},
     "output_type": "execute_result"
    },
    {
     "data": {
      "image/png": "[encoded data removed]",
      "text/plain": [
       "<Figure size 432x288 with 1 Axes>"
      ]
     },
     "metadata": {
      "needs_background": "light"
     },
     "output_type": "display_data"
    }
   ],
   "source": [
    "plt.plot(e,r)"
   ]
  },
  {
   "cell_type": "code",
   "execution_count": 53,
   "metadata": {},
   "outputs": [
    {
     "data": {
      "text/plain": [
       "[<matplotlib.lines.Line2D at 0x113222ac8>]"
      ]
     },
     "execution_count": 53,
     "metadata": {},
     "output_type": "execute_result"
    },
    {
     "data": {
      "image/png": "[encoded data removed]",
      "text/plain": [
       "<Figure size 432x288 with 1 Axes>"
      ]
     },
     "metadata": {
      "needs_background": "light"
     },
     "output_type": "display_data"
    }
   ],
   "source": [
    "plt.plot(e,r)\n",
    "plt.plot(e[r>0],r[r>0],\"o\")"
   ]
  },
  {
   "cell_type": "markdown",
   "metadata": {},
   "source": [
    "### p.s.jupyter中，一個tab=四個空格"
   ]
  },
  {
   "cell_type": "code",
   "execution_count": null,
   "metadata": {},
   "outputs": [],
   "source": []
  }
 ],
 "metadata": {
  "kernelspec": {
   "display_name": "Python 3",
   "language": "python",
   "name": "python3"
  },
  "language_info": {
   "codemirror_mode": {
    "name": "ipython",
    "version": 3
   },
   "file_extension": ".py",
   "mimetype": "text/x-python",
   "name": "python",
   "nbconvert_exporter": "python",
   "pygments_lexer": "ipython3",
   "version": "3.7.3"
  }
 },
 "nbformat": 4,
 "nbformat_minor": 2
}
