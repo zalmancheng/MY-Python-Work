{
 "cells": [
  {
   "cell_type": "markdown",
   "metadata": {},
   "source": [
    "# 生理期與排卵期計算小幫手"
   ]
  },
  {
   "cell_type": "code",
   "execution_count": 78,
   "metadata": {},
   "outputs": [],
   "source": [
    "import time\n",
    "import datetime"
   ]
  },
  {
   "cell_type": "code",
   "execution_count": 79,
   "metadata": {
    "scrolled": true
   },
   "outputs": [
    {
     "name": "stdout",
     "output_type": "stream",
     "text": [
      "今天想要計算什麼呢？>>>排卵期\n",
      "請輸入您的生理週期天數>>>29\n",
      "請輸入上次週期起始日\n",
      "年份>>>2019\n",
      "月份>>>5\n",
      "日期>>>2\n",
      "是否確認查詢2019/5/2後的排卵期>>>否\n",
      "請輸入上次週期起始日\n",
      "年份>>>2019\n",
      "月份>>>5\n",
      "日期>>>5\n",
      "是否確認查詢2019/5/5後的排卵期>>>是\n"
     ]
    }
   ],
   "source": [
    "x=input(\"今天想要計算什麼呢？>>>\")\n",
    "y=()\n",
    "time.sleep(0.5)\n",
    "b=input(\"請輸入您的生理週期天數>>>\")\n",
    "while \"是\" not in y:\n",
    "    time.sleep(0.5)\n",
    "    print(\"請輸入上次週期起始日\")\n",
    "    time.sleep(0.8)\n",
    "    year=input(\"年份>>>\")\n",
    "    month=input(\"月份>>>\")\n",
    "    day=input(\"日期>>>\")\n",
    "    y=input(\"是否確認查詢{}/{}/{}後的{}>>>\".format(year,month,day,x))\n",
    "d=datetime.date(int(year),int(month),int(day))\n",
    "a=int(b)-14"
   ]
  },
  {
   "cell_type": "code",
   "execution_count": 80,
   "metadata": {},
   "outputs": [
    {
     "name": "stdout",
     "output_type": "stream",
     "text": [
      "您下個排卵週期為2019-05-20至2019-05-30\n",
      "\u001b[31m⚠️以上數值僅供參考並依個人因素改變，更準確的資訊請轉介專業醫師。⚠️\u001b[0m\n"
     ]
    }
   ],
   "source": [
    "if (\"排卵期\") in x:\n",
    "    b=d+datetime.timedelta(days = a)\n",
    "    e=d+datetime.timedelta(days = a+10)\n",
    "    print(\"您下個排卵週期為\"+str(b)+\"至\"+str(e))\n",
    "elif(\"生理期\")in x:\n",
    "    q=d+datetime.timedelta(days = int(b))\n",
    "    print(\"您下個生理期起始日為\"+str(q))\n",
    "time.sleep(1.5)\n",
    "print(\"\\033[31m⚠️以上數值僅供參考並依個人因素改變，更準確的資訊請轉介專業醫師。⚠️\\033[0m\")"
   ]
  }
 ],
 "metadata": {
  "kernelspec": {
   "display_name": "Python 3",
   "language": "python",
   "name": "python3"
  },
  "language_info": {
   "codemirror_mode": {
    "name": "ipython",
    "version": 3
   },
   "file_extension": ".py",
   "mimetype": "text/x-python",
   "name": "python",
   "nbconvert_exporter": "python",
   "pygments_lexer": "ipython3",
   "version": "3.7.3"
  }
 },
 "nbformat": 4,
 "nbformat_minor": 2
}
