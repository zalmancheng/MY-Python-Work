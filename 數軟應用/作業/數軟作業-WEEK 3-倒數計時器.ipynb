{
 "cells": [
  {
   "cell_type": "code",
   "execution_count": 31,
   "metadata": {},
   "outputs": [],
   "source": [
    "import time"
   ]
  },
  {
   "cell_type": "code",
   "execution_count": 61,
   "metadata": {},
   "outputs": [
    {
     "name": "stdout",
     "output_type": "stream",
     "text": [
      "倒數計時秒數：7\n",
      "6.0\n",
      "5.0\n",
      "4.0\n",
      "3.0\n",
      "2.0\n",
      "1.0\n",
      "0.0\n",
      "\u001b[0;31;47mTime's UP!!!\u001b[0m\n"
     ]
    }
   ],
   "source": [
    "x=input(\"倒數計時秒數：\")\n",
    "while x!=0:\n",
    "    time.sleep(1)\n",
    "    x=float(x)-1\n",
    "    print (x)\n",
    "print(\"\\033[0;31;47mTime's UP!!!\\033[0m\")"
   ]
  },
  {
   "cell_type": "code",
   "execution_count": 62,
   "metadata": {},
   "outputs": [
    {
     "name": "stdout",
     "output_type": "stream",
     "text": [
      "倒數計時秒數：1\n",
      "0.0\n",
      "\u001b[31mTime's UP!!!\u001b[0m\n"
     ]
    }
   ],
   "source": [
    "x=input(\"倒數計時秒數：\")\n",
    "while x!=0:\n",
    "    time.sleep(1)\n",
    "    x=float(x)-1\n",
    "    print (x)\n",
    "print(\"\\033[31mTime's UP!!!\\033[0m\")"
   ]
  },
  {
   "cell_type": "code",
   "execution_count": null,
   "metadata": {},
   "outputs": [],
   "source": []
  }
 ],
 "metadata": {
  "kernelspec": {
   "display_name": "Python 3",
   "language": "python",
   "name": "python3"
  },
  "language_info": {
   "codemirror_mode": {
    "name": "ipython",
    "version": 3
   },
   "file_extension": ".py",
   "mimetype": "text/x-python",
   "name": "python",
   "nbconvert_exporter": "python",
   "pygments_lexer": "ipython3",
   "version": "3.7.3"
  }
 },
 "nbformat": 4,
 "nbformat_minor": 2
}
