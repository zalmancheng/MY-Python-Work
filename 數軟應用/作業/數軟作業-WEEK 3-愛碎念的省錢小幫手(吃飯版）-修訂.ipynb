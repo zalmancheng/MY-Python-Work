{
 "cells": [
  {
   "cell_type": "code",
   "execution_count": 2,
   "metadata": {},
   "outputs": [],
   "source": [
    "import time"
   ]
  },
  {
   "cell_type": "code",
   "execution_count": 4,
   "metadata": {},
   "outputs": [
    {
     "name": "stdout",
     "output_type": "stream",
     "text": [
      "定期記帳是人生成功的第一步啊!!!\n",
      "今天吃飯花了多少錢呀?_?>>150\n",
      "哎呦很會嘛～保持下去啊!!!\n",
      "繼續記帳？>>>好啊\n",
      "今天吃飯花了多少錢呀?_?>>210\n",
      "安九難道不好嗎?\n",
      "繼續記帳？>>>好啊\n",
      "今天吃飯花了多少錢呀?_?>>260\n",
      "給我注意一點啊\n",
      "繼續記帳？>>>好啊\n",
      "今天吃飯花了多少錢呀?_?>>310\n",
      "會不會太奢侈\n",
      "繼續記帳？>>>好啊\n",
      "今天吃飯花了多少錢呀?_?>>400\n",
      "哎你還是去打工吧米蟲\n",
      "繼續記帳？>>>不要\n"
     ]
    }
   ],
   "source": [
    "money=()\n",
    "x=()\n",
    "print(\"定期記帳是人生成功的第一步啊!!!\")\n",
    "\n",
    "time.sleep(1)\n",
    "while \"不\" not in x:\n",
    "    money=input(\"今天吃飯花了多少錢呀?_?>>\")\n",
    "    if (float(money)<=200):\n",
    "        print(\"哎呦很會嘛～保持下去啊!!!\")\n",
    "    elif (float(money)>350):\n",
    "        print(\"哎你還是去打工吧米蟲\")\n",
    "    elif (float(money)>300 and float(money)<=350):\n",
    "        print(\"會不會太奢侈\")\n",
    "    elif (float(money)>250 and float(money)<=300):\n",
    "        print(\"給我注意一點啊\")\n",
    "    elif(float(money)>200 and float(money)<=250):\n",
    "        print(\"安九難道不好嗎?\")\n",
    "    x=input(\"繼續記帳？>>>\")"
   ]
  },
  {
   "cell_type": "code",
   "execution_count": null,
   "metadata": {},
   "outputs": [],
   "source": []
  }
 ],
 "metadata": {
  "kernelspec": {
   "display_name": "Python 3",
   "language": "python",
   "name": "python3"
  },
  "language_info": {
   "codemirror_mode": {
    "name": "ipython",
    "version": 3
   },
   "file_extension": ".py",
   "mimetype": "text/x-python",
   "name": "python",
   "nbconvert_exporter": "python",
   "pygments_lexer": "ipython3",
   "version": "3.7.3"
  }
 },
 "nbformat": 4,
 "nbformat_minor": 2
}
