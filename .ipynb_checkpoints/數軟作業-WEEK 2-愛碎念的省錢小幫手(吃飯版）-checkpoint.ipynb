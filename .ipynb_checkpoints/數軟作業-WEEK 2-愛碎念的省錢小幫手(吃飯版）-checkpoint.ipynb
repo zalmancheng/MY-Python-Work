{
 "cells": [
  {
   "cell_type": "code",
   "execution_count": null,
   "metadata": {},
   "outputs": [
    {
     "name": "stdout",
     "output_type": "stream",
     "text": [
      "來乖乖記帳嗎？對啊\n",
      "今天吃飯花了多少錢呀?_?>>200\n",
      "哎呦很會嘛～保持下去啊!!!\n",
      "今天吃飯花了多少錢呀?_?>>250\n",
      "安九難道不好嗎?\n",
      "今天吃飯花了多少錢呀?_?>>300\n",
      "給我注意一點啊\n",
      "今天吃飯花了多少錢呀?_?>>350\n",
      "會不會太奢侈\n",
      "今天吃飯花了多少錢呀?_?>>400\n",
      "哎你還是去打工吧米蟲\n"
     ]
    }
   ],
   "source": [
    "money=\" \"\n",
    "money=input(\"來乖乖記帳嗎？\")\n",
    "while \"沒\" not in money:\n",
    "    money=input(\"今天吃飯花了多少錢呀?_?>>\")\n",
    "    M=float(money)\n",
    "    if (M<=200):\n",
    "        print(\"哎呦很會嘛～保持下去啊!!!\")\n",
    "    elif (M>350):\n",
    "        print(\"哎你還是去打工吧米蟲\")\n",
    "    elif (M>300 and M<=350):\n",
    "        print(\"會不會太奢侈\")\n",
    "    elif (M>250 and M<=300):\n",
    "        print(\"給我注意一點啊\")\n",
    "    elif(M>200 and M<=250):\n",
    "        print(\"安九難道不好嗎?\")"
   ]
  },
  {
   "cell_type": "code",
   "execution_count": null,
   "metadata": {},
   "outputs": [],
   "source": []
  }
 ],
 "metadata": {
  "kernelspec": {
   "display_name": "Python 3",
   "language": "python",
   "name": "python3"
  },
  "language_info": {
   "codemirror_mode": {
    "name": "ipython",
    "version": 3
   },
   "file_extension": ".py",
   "mimetype": "text/x-python",
   "name": "python",
   "nbconvert_exporter": "python",
   "pygments_lexer": "ipython3",
   "version": "3.7.3"
  }
 },
 "nbformat": 4,
 "nbformat_minor": 2
}
