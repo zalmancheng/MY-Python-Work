{
 "cells": [
  {
   "cell_type": "code",
   "execution_count": 1,
   "metadata": {},
   "outputs": [],
   "source": [
    "%matplotlib inline\n",
    "import numpy as np\n",
    "import matplotlib.pyplot as plt\n",
    "import pandas as pd\n",
    "import time"
   ]
  },
  {
   "cell_type": "code",
   "execution_count": 3,
   "metadata": {},
   "outputs": [
    {
     "name": "stdout",
     "output_type": "stream",
     "text": [
      "請填入以下原始成績，未報考請填0！\n",
      "請輸入國文成績：9\n",
      "請輸入英文成績：789\n",
      "請輸入數乙成績：7\n",
      "請輸入地理成績：8\n",
      "請輸入歷史成績：9\n",
      "請輸入公民成績：97\n",
      "請輸入數甲成績：6\n",
      "請輸入物理成績：9\n",
      "請輸入化學成績：98\n",
      "請輸入生物成績：6\n",
      "請輸入體育術科成績：9\n",
      "請輸入美術術科成績：8\n",
      "請輸入音樂術科成績：6\n",
      "請確認以下資料是否正確\n",
      "國文:9\n",
      "英文:789\n",
      "數乙:7\n",
      "地理:8\n",
      "歷史:9\n",
      "公民:97\n",
      "數甲:6\n",
      "物理:9\n",
      "化學:98\n",
      "生物:6\n",
      "體育術科:9\n",
      "美術術科8\n",
      "音樂術科:6\n",
      "以上資料是否正確？否\n",
      "煩請再次輸入原始成績，謝謝\n",
      "請輸入國文成績：92\n",
      "請輸入英文成績：98\n",
      "請輸入數乙成績：99\n",
      "請輸入地理成績：87\n",
      "請輸入歷史成績：98\n",
      "請輸入公民成績：87\n",
      "請輸入數甲成績：99\n",
      "請輸入物理成績：97\n",
      "請輸入化學成績：9\n",
      "請輸入生物成績：87\n",
      "請輸入體育術科成績：90\n",
      "請輸入美術術科成績：0\n",
      "請輸入音樂術科成績：0\n",
      "請確認以下資料是否正確\n",
      "國文:92\n",
      "英文:98\n",
      "數乙:99\n",
      "地理:87\n",
      "歷史:98\n",
      "公民:87\n",
      "數甲:99\n",
      "物理:97\n",
      "化學:9\n",
      "生物:87\n",
      "體育術科:90\n",
      "美術術科0\n",
      "音樂術科:0\n",
      "以上資料是否正確？是\n"
     ]
    }
   ],
   "source": [
    "print('請填入以下原始成績，未報考請填0！')\n",
    "time.sleep(0.8)\n",
    "x=()\n",
    "while ('是')not in x:\n",
    "    c=input('請輸入國文成績：')\n",
    "    e=input('請輸入英文成績：')\n",
    "    m1=input('請輸入數乙成績：')\n",
    "    g=input('請輸入地理成績：')\n",
    "    h=input('請輸入歷史成績：')\n",
    "    d=input('請輸入公民成績：')\n",
    "    mj=input('請輸入數甲成績：')\n",
    "    p=input('請輸入物理成績：')\n",
    "    cc=input('請輸入化學成績：')\n",
    "    b=input('請輸入生物成績：')\n",
    "    pe=input('請輸入體育術科成績：')\n",
    "    art=input('請輸入美術術科成績：')\n",
    "    mu=input('請輸入音樂術科成績：')\n",
    "    print('請確認以下資料是否正確')\n",
    "    time.sleep(0.8)\n",
    "    print('國文:'+c)\n",
    "    print('英文:'+e)\n",
    "    print('數乙:'+m1)\n",
    "    print('地理:'+g)\n",
    "    print('歷史:'+h)\n",
    "    print('公民:'+d)\n",
    "    print('數甲:'+mj)\n",
    "    print('物理:'+p)\n",
    "    print('化學:'+cc)\n",
    "    print('生物:'+b)\n",
    "    print('體育術科:'+pe)\n",
    "    print('美術術科'+art)\n",
    "    print('音樂術科:'+mu)\n",
    "    x=input('以上資料是否正確？')\n",
    "    if ('否')in x:\n",
    "        print('煩請再次輸入原始成績，謝謝')\n",
    "    time.sleep(0.8)"
   ]
  },
  {
   "cell_type": "code",
   "execution_count": 4,
   "metadata": {},
   "outputs": [],
   "source": [
    "grades=np.array([(float(c)),(float(e)),(float(m1)),(float(g)),(float(h)),(float(d)),(float(mj)),(float(p)),(float(cc)),(float(b)),(float(pe)),(float(art)),(float(mu))])"
   ]
  },
  {
   "cell_type": "code",
   "execution_count": 5,
   "metadata": {},
   "outputs": [
    {
     "name": "stdout",
     "output_type": "stream",
     "text": [
      "接著，請填入以下科目之採計加權值，未報考請填0！\n",
      "請輸入國文加權倍率：1.5\n",
      "請輸入英文加權倍率：2\n",
      "請輸入數乙加權倍率：2\n",
      "請輸入地理加權倍率：1.5\n",
      "請輸入歷史加權倍率：1.5\n",
      "請輸入公民加權倍率：1.5\n",
      "請輸入數甲加權倍率：1.5\n",
      "請輸入物理加權倍率：1\n",
      "請輸入化學加權倍率：1\n",
      "請輸入生物加權倍率：1.5\n",
      "請輸入體育術科加權倍率：0\n",
      "請輸入美術術科加權倍率：0\n",
      "請輸入音樂術科加權倍率：0\n",
      "請確認以下資料是否正確\n",
      "國文:1.5\n",
      "英文:2\n",
      "數乙:2\n",
      "地理:1.5\n",
      "歷史:1.5\n",
      "公民:1.5\n",
      "數甲:1.5\n",
      "物理:1\n",
      "化學:1\n",
      "生物:1.5\n",
      "體育術科:0\n",
      "美術術科:0\n",
      "音樂術科:0\n",
      "以上資料是否正確？是\n"
     ]
    }
   ],
   "source": [
    "print('接著，請填入以下科目之採計加權值，未報考請填0！')\n",
    "time.sleep(0.8)\n",
    "y=()\n",
    "while ('是')not in y:\n",
    "    c2=input('請輸入國文加權倍率：')\n",
    "    e2=input('請輸入英文加權倍率：')\n",
    "    m12=input('請輸入數乙加權倍率：')\n",
    "    g2=input('請輸入地理加權倍率：')\n",
    "    h2=input('請輸入歷史加權倍率：')\n",
    "    d2=input('請輸入公民加權倍率：')\n",
    "    mj2=input('請輸入數甲加權倍率：')\n",
    "    p2=input('請輸入物理加權倍率：')\n",
    "    cc2=input('請輸入化學加權倍率：')\n",
    "    b2=input('請輸入生物加權倍率：')\n",
    "    pe2=input('請輸入體育術科加權倍率：')\n",
    "    art2=input('請輸入美術術科加權倍率：')\n",
    "    mu2=input('請輸入音樂術科加權倍率：')\n",
    "    print('請確認以下資料是否正確')\n",
    "    time.sleep(0.8)\n",
    "    print('國文:'+c2)\n",
    "    print('英文:'+e2)\n",
    "    print('數乙:'+m12)\n",
    "    print('地理:'+g2)\n",
    "    print('歷史:'+h2)\n",
    "    print('公民:'+d2)\n",
    "    print('數甲:'+mj2)\n",
    "    print('物理:'+p2)\n",
    "    print('化學:'+cc2)\n",
    "    print('生物:'+b2)\n",
    "    print('體育術科:'+pe2)\n",
    "    print('美術術科:'+art2)\n",
    "    print('音樂術科:'+mu2)\n",
    "    y=input('以上資料是否正確？')\n",
    "    if ('否')in y:\n",
    "        print('煩請再次輸入各項倍率')\n",
    "    time.sleep(0.8)"
   ]
  },
  {
   "cell_type": "code",
   "execution_count": 6,
   "metadata": {},
   "outputs": [],
   "source": [
    "z=np.array([(float(c2)),(float(e2)),(float(m12)),(float(g2)),(float(h2)),(float(d2)),(float(mj2)),(float(p2)),(float(cc2)),(float(b2)),(float(pe2)),(float(art2)),(float(mu2))])"
   ]
  },
  {
   "cell_type": "code",
   "execution_count": 7,
   "metadata": {},
   "outputs": [
    {
     "name": "stdout",
     "output_type": "stream",
     "text": [
      "您的加權分數為1325.0分\n",
      "祝您金榜題名∠( ᐛ 」∠)＿\n"
     ]
    }
   ],
   "source": [
    "total=(grades*z).sum()\n",
    "print('您的加權分數為'+str(total)+'分')\n",
    "time.sleep(0.8)\n",
    "print('祝您金榜題名∠( ᐛ 」∠)＿')"
   ]
  }
 ],
 "metadata": {
  "kernelspec": {
   "display_name": "Python 3",
   "language": "python",
   "name": "python3"
  },
  "language_info": {
   "codemirror_mode": {
    "name": "ipython",
    "version": 3
   },
   "file_extension": ".py",
   "mimetype": "text/x-python",
   "name": "python",
   "nbconvert_exporter": "python",
   "pygments_lexer": "ipython3",
   "version": "3.7.3"
  }
 },
 "nbformat": 4,
 "nbformat_minor": 2
}
