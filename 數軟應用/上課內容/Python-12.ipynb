{
 "cells": [
  {
   "cell_type": "code",
   "execution_count": 1,
   "metadata": {},
   "outputs": [],
   "source": [
    "import tkinter as tk"
   ]
  },
  {
   "cell_type": "code",
   "execution_count": 3,
   "metadata": {},
   "outputs": [],
   "source": [
    "window=tk.Tk()"
   ]
  },
  {
   "cell_type": "code",
   "execution_count": null,
   "metadata": {},
   "outputs": [],
   "source": [
    "window.mainloop() ###視窗顯示"
   ]
  },
  {
   "cell_type": "markdown",
   "metadata": {},
   "source": [
    "### 換小視窗名稱"
   ]
  },
  {
   "cell_type": "code",
   "execution_count": 2,
   "metadata": {},
   "outputs": [
    {
     "data": {
      "text/plain": [
       "''"
      ]
     },
     "execution_count": 2,
     "metadata": {},
     "output_type": "execute_result"
    }
   ],
   "source": [
    "window=tk.Tk()\n",
    "window.title('test')"
   ]
  },
  {
   "cell_type": "code",
   "execution_count": null,
   "metadata": {},
   "outputs": [],
   "source": [
    "window.mainloop()"
   ]
  },
  {
   "cell_type": "markdown",
   "metadata": {},
   "source": [
    "### 換小視窗顏色"
   ]
  },
  {
   "cell_type": "code",
   "execution_count": 2,
   "metadata": {},
   "outputs": [],
   "source": [
    "window=tk.Tk()\n",
    "window.config(background='green')"
   ]
  },
  {
   "cell_type": "code",
   "execution_count": 3,
   "metadata": {},
   "outputs": [],
   "source": [
    "window.mainloop()"
   ]
  },
  {
   "cell_type": "markdown",
   "metadata": {},
   "source": [
    "### 來看看有哪些參數可以設定"
   ]
  },
  {
   "cell_type": "code",
   "execution_count": 4,
   "metadata": {},
   "outputs": [
    {
     "name": "stdout",
     "output_type": "stream",
     "text": [
      "{'bd': ('bd', '-borderwidth'), 'borderwidth': ('borderwidth', 'borderWidth', 'BorderWidth', <pixel object: '0'>, 0), 'class': ('class', 'class', 'Class', 'Toplevel', 'Tk'), 'menu': ('menu', 'menu', 'Menu', '', ''), 'relief': ('relief', 'relief', 'Relief', <index object: 'flat'>, 'flat'), 'screen': ('screen', 'screen', 'Screen', '', ''), 'use': ('use', 'use', 'Use', '', ''), 'background': ('background', 'background', 'Background', <border object: 'systemWindowBody'>, 'systemWindowBody'), 'bg': ('bg', '-background'), 'colormap': ('colormap', 'colormap', 'Colormap', '', ''), 'container': ('container', 'container', 'Container', 0, 0), 'cursor': ('cursor', 'cursor', 'Cursor', '', ''), 'height': ('height', 'height', 'Height', <pixel object: '0'>, 0), 'highlightbackground': ('highlightbackground', 'highlightBackground', 'HighlightBackground', <color object: 'systemWindowBody'>, 'systemWindowBody'), 'highlightcolor': ('highlightcolor', 'highlightColor', 'HighlightColor', <color object: 'Black'>, 'Black'), 'highlightthickness': ('highlightthickness', 'highlightThickness', 'HighlightThickness', <pixel object: '0'>, 0), 'padx': ('padx', 'padX', 'Pad', <pixel object: '0'>, <pixel object: '0'>), 'pady': ('pady', 'padY', 'Pad', <pixel object: '0'>, <pixel object: '0'>), 'takefocus': ('takefocus', 'takeFocus', 'TakeFocus', '0', '0'), 'visual': ('visual', 'visual', 'Visual', '', ''), 'width': ('width', 'width', 'Width', <pixel object: '0'>, 0)}\n"
     ]
    }
   ],
   "source": [
    "print(window.config())"
   ]
  },
  {
   "cell_type": "code",
   "execution_count": null,
   "metadata": {},
   "outputs": [],
   "source": []
  }
 ],
 "metadata": {
  "kernelspec": {
   "display_name": "Python 3",
   "language": "python",
   "name": "python3"
  },
  "language_info": {
   "codemirror_mode": {
    "name": "ipython",
    "version": 3
   },
   "file_extension": ".py",
   "mimetype": "text/x-python",
   "name": "python",
   "nbconvert_exporter": "python",
   "pygments_lexer": "ipython3",
   "version": "3.7.3"
  }
 },
 "nbformat": 4,
 "nbformat_minor": 2
}
