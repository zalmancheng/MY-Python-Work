{
 "cells": [
  {
   "cell_type": "code",
   "execution_count": 1,
   "metadata": {},
   "outputs": [],
   "source": [
    "import time\n",
    "import datetime\n",
    "from ipywidgets import interact"
   ]
  },
  {
   "cell_type": "code",
   "execution_count": 25,
   "metadata": {},
   "outputs": [
    {
     "name": "stdout",
     "output_type": "stream",
     "text": [
      "年度:2019\n",
      "月份:10\n",
      "日期:10\n",
      "請問是否查詢2019/10/10出發班次的搶票時間?>>>否\n",
      "年度:2019\n",
      "月份:11\n",
      "日期:8\n",
      "請問是否查詢2019/11/8出發班次的搶票時間?>>>是\n"
     ]
    }
   ],
   "source": [
    "r=()\n",
    "while r!=\"是\":\n",
    "    Year=input(\"年度:\")\n",
    "    Month=input(\"月份:\")\n",
    "    Date=input(\"日期:\")\n",
    "    r=input(\"請問是否查詢{}/{}/{}出發班次的搶票時間?>>>\".format(Year,Month,Date))"
   ]
  },
  {
   "cell_type": "code",
   "execution_count": 26,
   "metadata": {},
   "outputs": [],
   "source": [
    "b=datetime.date(int(Year),int(Month),int(Date))"
   ]
  },
  {
   "cell_type": "code",
   "execution_count": 27,
   "metadata": {},
   "outputs": [],
   "source": [
    "def t(交通方式):\n",
    "    print(交通方式)"
   ]
  },
  {
   "cell_type": "code",
   "execution_count": 28,
   "metadata": {},
   "outputs": [
    {
     "data": {
      "application/vnd.jupyter.widget-view+json": {
       "model_id": "24d436c760804fbb86aad5f4e3b5945f",
       "version_major": 2,
       "version_minor": 0
      },
      "text/plain": [
       "interactive(children=(Dropdown(description='交通方式', options={'高鐵': datetime.date(2019, 10, 11), '火車': datetime.…"
      ]
     },
     "metadata": {},
     "output_type": "display_data"
    }
   ],
   "source": [
    "interact(t,交通方式={\"高鐵\":b-datetime.timedelta(days = 28),\n",
    "                            \"火車\":b-datetime.timedelta(days = 14),\n",
    "                            \"和欣客運\":b-datetime.timedelta(days = 15),\n",
    "                            \"統聯客運\":b-datetime.timedelta(days = 17),\n",
    "                            \"國光客運\":b-datetime.timedelta(days = 15)});"
   ]
  },
  {
   "cell_type": "code",
   "execution_count": null,
   "metadata": {},
   "outputs": [],
   "source": []
  }
 ],
 "metadata": {
  "kernelspec": {
   "display_name": "Python 3",
   "language": "python",
   "name": "python3"
  },
  "language_info": {
   "codemirror_mode": {
    "name": "ipython",
    "version": 3
   },
   "file_extension": ".py",
   "mimetype": "text/x-python",
   "name": "python",
   "nbconvert_exporter": "python",
   "pygments_lexer": "ipython3",
   "version": "3.7.3"
  }
 },
 "nbformat": 4,
 "nbformat_minor": 2
}
